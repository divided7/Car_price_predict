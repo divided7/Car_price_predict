{
 "cells": [
  {
   "cell_type": "code",
   "execution_count": 75,
   "id": "1d8ce264",
   "metadata": {},
   "outputs": [],
   "source": [
    "import pandas as pd\n",
    "import matplotlib.pyplot as plt\n",
    "import numpy as np"
   ]
  },
  {
   "cell_type": "code",
   "execution_count": 8,
   "id": "faba47fc",
   "metadata": {},
   "outputs": [],
   "source": [
    "column = ['车辆 id','上架时间','上架价格','价格调整时间：调整后价格','下架时间','成交时间']\n",
    "df =  pd.read_table(\"2021年MathorCup大数据竞赛赛道A/附件/附件4：门店交易训练数据.txt\",header=None,names = column,index_col=False)"
   ]
  },
  {
   "cell_type": "code",
   "execution_count": 9,
   "id": "65bf1d4b",
   "metadata": {},
   "outputs": [],
   "source": [
    "def date2num(day):\n",
    "    '''\n",
    "    xxxx-xx-xx (y-m-d)/ xxxxxx(y m) to  num\n",
    "    判断是否为nan，若不为nan则判断为xxxx-xx-xx的年月日形式或xxxxxx的月+日形式，计算距离2000年1月1日的日期差，若日期小于2000年本函数不适用\n",
    "    （数据集中的日期全为2000年后）\n",
    "    '''\n",
    "    if pd.isna(day):\n",
    "        return day\n",
    "    else:\n",
    "        day = str(day)\n",
    "        if day[4] == '-':\n",
    "            year = int((eval(day[:4])-2000))\n",
    "            if day[5] == '0':\n",
    "                month = int(eval(day[6:7]))\n",
    "            if day[5] == '1':\n",
    "                month = int(eval(day[5:7]))\n",
    "            if day[8] == '0':\n",
    "                days = int(eval(day[-1:]))\n",
    "            else:\n",
    "                days = int(eval(day[-2:]))\n",
    "            return int(year*365 + (month-1)*30 + days)\n",
    "        elif len(day)==8:\n",
    "            year = int((eval(day[:4])-2000))\n",
    "            if day[4] == '0':\n",
    "                month = int(eval(day[5:6]))\n",
    "            else:\n",
    "                month = int(eval(day[4:6]))\n",
    "            return int(year*365 + (month-1)*30)\n",
    "        else:\n",
    "            return 'error'"
   ]
  },
  {
   "cell_type": "code",
   "execution_count": 115,
   "id": "88f4e87b",
   "metadata": {},
   "outputs": [
    {
     "data": {
      "text/html": [
       "<div>\n",
       "<style scoped>\n",
       "    .dataframe tbody tr th:only-of-type {\n",
       "        vertical-align: middle;\n",
       "    }\n",
       "\n",
       "    .dataframe tbody tr th {\n",
       "        vertical-align: top;\n",
       "    }\n",
       "\n",
       "    .dataframe thead th {\n",
       "        text-align: right;\n",
       "    }\n",
       "</style>\n",
       "<table border=\"1\" class=\"dataframe\">\n",
       "  <thead>\n",
       "    <tr style=\"text-align: right;\">\n",
       "      <th></th>\n",
       "      <th>车辆 id</th>\n",
       "      <th>上架时间</th>\n",
       "      <th>上架价格</th>\n",
       "      <th>价格调整时间：调整后价格</th>\n",
       "      <th>下架时间</th>\n",
       "      <th>成交时间</th>\n",
       "      <th>a</th>\n",
       "      <th>在售时间</th>\n",
       "      <th>成交周期</th>\n",
       "      <th>价格调整次数</th>\n",
       "    </tr>\n",
       "  </thead>\n",
       "  <tbody>\n",
       "    <tr>\n",
       "      <th>0</th>\n",
       "      <td>68603</td>\n",
       "      <td>7736</td>\n",
       "      <td>3.9800</td>\n",
       "      <td>{}</td>\n",
       "      <td>7736</td>\n",
       "      <td>7736.0</td>\n",
       "      <td>1</td>\n",
       "      <td>0</td>\n",
       "      <td>0.0</td>\n",
       "      <td>0.0</td>\n",
       "    </tr>\n",
       "    <tr>\n",
       "      <th>1</th>\n",
       "      <td>12312</td>\n",
       "      <td>7799</td>\n",
       "      <td>4.5000</td>\n",
       "      <td>{}</td>\n",
       "      <td>7829</td>\n",
       "      <td>7829.0</td>\n",
       "      <td>1</td>\n",
       "      <td>30</td>\n",
       "      <td>30.0</td>\n",
       "      <td>0.0</td>\n",
       "    </tr>\n",
       "    <tr>\n",
       "      <th>2</th>\n",
       "      <td>57655</td>\n",
       "      <td>7738</td>\n",
       "      <td>23.9000</td>\n",
       "      <td>[\"2021-04-05\", \"23\"]</td>\n",
       "      <td>7763</td>\n",
       "      <td>7763.0</td>\n",
       "      <td>1</td>\n",
       "      <td>25</td>\n",
       "      <td>25.0</td>\n",
       "      <td>1.0</td>\n",
       "    </tr>\n",
       "    <tr>\n",
       "      <th>3</th>\n",
       "      <td>45688</td>\n",
       "      <td>7541</td>\n",
       "      <td>20.5798</td>\n",
       "      <td>{}</td>\n",
       "      <td>7544</td>\n",
       "      <td>7544.0</td>\n",
       "      <td>1</td>\n",
       "      <td>3</td>\n",
       "      <td>3.0</td>\n",
       "      <td>0.0</td>\n",
       "    </tr>\n",
       "    <tr>\n",
       "      <th>4</th>\n",
       "      <td>52081</td>\n",
       "      <td>7784</td>\n",
       "      <td>12.2800</td>\n",
       "      <td>[\"2021-05-20\", \"11.9\"]</td>\n",
       "      <td>7836</td>\n",
       "      <td>7836.0</td>\n",
       "      <td>1</td>\n",
       "      <td>52</td>\n",
       "      <td>52.0</td>\n",
       "      <td>1.0</td>\n",
       "    </tr>\n",
       "    <tr>\n",
       "      <th>...</th>\n",
       "      <td>...</td>\n",
       "      <td>...</td>\n",
       "      <td>...</td>\n",
       "      <td>...</td>\n",
       "      <td>...</td>\n",
       "      <td>...</td>\n",
       "      <td>...</td>\n",
       "      <td>...</td>\n",
       "      <td>...</td>\n",
       "      <td>...</td>\n",
       "    </tr>\n",
       "    <tr>\n",
       "      <th>9995</th>\n",
       "      <td>10177</td>\n",
       "      <td>7876</td>\n",
       "      <td>22.8800</td>\n",
       "      <td>{}</td>\n",
       "      <td>7916</td>\n",
       "      <td>NaN</td>\n",
       "      <td>1</td>\n",
       "      <td>40</td>\n",
       "      <td>NaN</td>\n",
       "      <td>0.0</td>\n",
       "    </tr>\n",
       "    <tr>\n",
       "      <th>9996</th>\n",
       "      <td>54312</td>\n",
       "      <td>7747</td>\n",
       "      <td>12.3000</td>\n",
       "      <td>{}</td>\n",
       "      <td>7771</td>\n",
       "      <td>NaN</td>\n",
       "      <td>1</td>\n",
       "      <td>24</td>\n",
       "      <td>NaN</td>\n",
       "      <td>0.0</td>\n",
       "    </tr>\n",
       "    <tr>\n",
       "      <th>9997</th>\n",
       "      <td>45597</td>\n",
       "      <td>7674</td>\n",
       "      <td>15.3800</td>\n",
       "      <td>{}</td>\n",
       "      <td>7692</td>\n",
       "      <td>NaN</td>\n",
       "      <td>1</td>\n",
       "      <td>18</td>\n",
       "      <td>NaN</td>\n",
       "      <td>0.0</td>\n",
       "    </tr>\n",
       "    <tr>\n",
       "      <th>9998</th>\n",
       "      <td>38629</td>\n",
       "      <td>7822</td>\n",
       "      <td>36.8800</td>\n",
       "      <td>[\"2021-06-12\", \"36.6\"]</td>\n",
       "      <td>7837</td>\n",
       "      <td>NaN</td>\n",
       "      <td>1</td>\n",
       "      <td>15</td>\n",
       "      <td>NaN</td>\n",
       "      <td>1.0</td>\n",
       "    </tr>\n",
       "    <tr>\n",
       "      <th>9999</th>\n",
       "      <td>58619</td>\n",
       "      <td>7731</td>\n",
       "      <td>39.3800</td>\n",
       "      <td>[\"2021-03-08\", \"38.6\", \"2021-03-27\", \"38\"]</td>\n",
       "      <td>7761</td>\n",
       "      <td>NaN</td>\n",
       "      <td>1</td>\n",
       "      <td>30</td>\n",
       "      <td>NaN</td>\n",
       "      <td>2.0</td>\n",
       "    </tr>\n",
       "  </tbody>\n",
       "</table>\n",
       "<p>10000 rows × 10 columns</p>\n",
       "</div>"
      ],
      "text/plain": [
       "      车辆 id  上架时间     上架价格                                价格调整时间：调整后价格  下架时间  \\\n",
       "0     68603  7736   3.9800                                          {}  7736   \n",
       "1     12312  7799   4.5000                                          {}  7829   \n",
       "2     57655  7738  23.9000                        [\"2021-04-05\", \"23\"]  7763   \n",
       "3     45688  7541  20.5798                                          {}  7544   \n",
       "4     52081  7784  12.2800                      [\"2021-05-20\", \"11.9\"]  7836   \n",
       "...     ...   ...      ...                                         ...   ...   \n",
       "9995  10177  7876  22.8800                                          {}  7916   \n",
       "9996  54312  7747  12.3000                                          {}  7771   \n",
       "9997  45597  7674  15.3800                                          {}  7692   \n",
       "9998  38629  7822  36.8800                      [\"2021-06-12\", \"36.6\"]  7837   \n",
       "9999  58619  7731  39.3800  [\"2021-03-08\", \"38.6\", \"2021-03-27\", \"38\"]  7761   \n",
       "\n",
       "        成交时间  a  在售时间  成交周期  价格调整次数  \n",
       "0     7736.0  1     0   0.0     0.0  \n",
       "1     7829.0  1    30  30.0     0.0  \n",
       "2     7763.0  1    25  25.0     1.0  \n",
       "3     7544.0  1     3   3.0     0.0  \n",
       "4     7836.0  1    52  52.0     1.0  \n",
       "...      ... ..   ...   ...     ...  \n",
       "9995     NaN  1    40   NaN     0.0  \n",
       "9996     NaN  1    24   NaN     0.0  \n",
       "9997     NaN  1    18   NaN     0.0  \n",
       "9998     NaN  1    15   NaN     1.0  \n",
       "9999     NaN  1    30   NaN     2.0  \n",
       "\n",
       "[10000 rows x 10 columns]"
      ]
     },
     "execution_count": 115,
     "metadata": {},
     "output_type": "execute_result"
    }
   ],
   "source": [
    "df"
   ]
  },
  {
   "cell_type": "code",
   "execution_count": 11,
   "id": "9ff0b170",
   "metadata": {},
   "outputs": [],
   "source": [
    "df['上架时间'] = df['上架时间'].apply(date2num)\n",
    "df['下架时间'] = df['下架时间'].apply(date2num)\n",
    "df['成交时间'] = df['成交时间'].apply(date2num)"
   ]
  },
  {
   "cell_type": "code",
   "execution_count": 51,
   "id": "6fd8e444",
   "metadata": {},
   "outputs": [],
   "source": [
    "df['在售时间'] = df['下架时间'] - df['上架时间']\n",
    "df['成交周期'] = df['成交时间'] - df['上架时间']"
   ]
  },
  {
   "cell_type": "code",
   "execution_count": 121,
   "id": "e167eaf3",
   "metadata": {
    "scrolled": true
   },
   "outputs": [
    {
     "name": "stderr",
     "output_type": "stream",
     "text": [
      "C:\\Users\\kiko\\AppData\\Local\\Temp/ipykernel_13120/2845169388.py:10: SettingWithCopyWarning: \n",
      "A value is trying to be set on a copy of a slice from a DataFrame\n",
      "\n",
      "See the caveats in the documentation: https://pandas.pydata.org/pandas-docs/stable/user_guide/indexing.html#returning-a-view-versus-a-copy\n",
      "  df['价格调整时间：调整后价格'][i] = strr\n"
     ]
    }
   ],
   "source": [
    "dic_len = np.zeros((len(df),1))\n",
    "low_price = np.zeros((len(df),1))\n",
    "for i in range(len(df)):\n",
    "    if bool(eval(df['价格调整时间：调整后价格'][i])):\n",
    "        dic = eval(df['价格调整时间：调整后价格'][i])\n",
    "        strr = df['价格调整时间：调整后价格'][i]\n",
    "        strr = strr.replace('{','[')\n",
    "        strr = strr.replace('}',']')\n",
    "        strr = strr.replace(':',',')\n",
    "        df['价格调整时间：调整后价格'][i] = strr\n",
    "        dic_len[i] = len(dic)\n",
    "        low_price[i] = float(df['上架价格'][i]) - float(eval(strr)[-1])\n",
    "df['价格调整次数'] = dic_len\n",
    "df['降价金额'] = low_price"
   ]
  },
  {
   "cell_type": "code",
   "execution_count": 122,
   "id": "f04dc5f8",
   "metadata": {},
   "outputs": [
    {
     "data": {
      "text/html": [
       "<div>\n",
       "<style scoped>\n",
       "    .dataframe tbody tr th:only-of-type {\n",
       "        vertical-align: middle;\n",
       "    }\n",
       "\n",
       "    .dataframe tbody tr th {\n",
       "        vertical-align: top;\n",
       "    }\n",
       "\n",
       "    .dataframe thead th {\n",
       "        text-align: right;\n",
       "    }\n",
       "</style>\n",
       "<table border=\"1\" class=\"dataframe\">\n",
       "  <thead>\n",
       "    <tr style=\"text-align: right;\">\n",
       "      <th></th>\n",
       "      <th>车辆 id</th>\n",
       "      <th>上架时间</th>\n",
       "      <th>上架价格</th>\n",
       "      <th>价格调整时间：调整后价格</th>\n",
       "      <th>下架时间</th>\n",
       "      <th>成交时间</th>\n",
       "      <th>a</th>\n",
       "      <th>在售时间</th>\n",
       "      <th>成交周期</th>\n",
       "      <th>价格调整次数</th>\n",
       "      <th>降价金额</th>\n",
       "    </tr>\n",
       "  </thead>\n",
       "  <tbody>\n",
       "    <tr>\n",
       "      <th>0</th>\n",
       "      <td>68603</td>\n",
       "      <td>7736</td>\n",
       "      <td>3.9800</td>\n",
       "      <td>{}</td>\n",
       "      <td>7736</td>\n",
       "      <td>7736.0</td>\n",
       "      <td>1</td>\n",
       "      <td>0</td>\n",
       "      <td>0.0</td>\n",
       "      <td>0.0</td>\n",
       "      <td>0.00</td>\n",
       "    </tr>\n",
       "    <tr>\n",
       "      <th>1</th>\n",
       "      <td>12312</td>\n",
       "      <td>7799</td>\n",
       "      <td>4.5000</td>\n",
       "      <td>{}</td>\n",
       "      <td>7829</td>\n",
       "      <td>7829.0</td>\n",
       "      <td>1</td>\n",
       "      <td>30</td>\n",
       "      <td>30.0</td>\n",
       "      <td>0.0</td>\n",
       "      <td>0.00</td>\n",
       "    </tr>\n",
       "    <tr>\n",
       "      <th>2</th>\n",
       "      <td>57655</td>\n",
       "      <td>7738</td>\n",
       "      <td>23.9000</td>\n",
       "      <td>[\"2021-04-05\", \"23\"]</td>\n",
       "      <td>7763</td>\n",
       "      <td>7763.0</td>\n",
       "      <td>1</td>\n",
       "      <td>25</td>\n",
       "      <td>25.0</td>\n",
       "      <td>2.0</td>\n",
       "      <td>0.90</td>\n",
       "    </tr>\n",
       "    <tr>\n",
       "      <th>3</th>\n",
       "      <td>45688</td>\n",
       "      <td>7541</td>\n",
       "      <td>20.5798</td>\n",
       "      <td>{}</td>\n",
       "      <td>7544</td>\n",
       "      <td>7544.0</td>\n",
       "      <td>1</td>\n",
       "      <td>3</td>\n",
       "      <td>3.0</td>\n",
       "      <td>0.0</td>\n",
       "      <td>0.00</td>\n",
       "    </tr>\n",
       "    <tr>\n",
       "      <th>4</th>\n",
       "      <td>52081</td>\n",
       "      <td>7784</td>\n",
       "      <td>12.2800</td>\n",
       "      <td>[\"2021-05-20\", \"11.9\"]</td>\n",
       "      <td>7836</td>\n",
       "      <td>7836.0</td>\n",
       "      <td>1</td>\n",
       "      <td>52</td>\n",
       "      <td>52.0</td>\n",
       "      <td>2.0</td>\n",
       "      <td>0.38</td>\n",
       "    </tr>\n",
       "    <tr>\n",
       "      <th>...</th>\n",
       "      <td>...</td>\n",
       "      <td>...</td>\n",
       "      <td>...</td>\n",
       "      <td>...</td>\n",
       "      <td>...</td>\n",
       "      <td>...</td>\n",
       "      <td>...</td>\n",
       "      <td>...</td>\n",
       "      <td>...</td>\n",
       "      <td>...</td>\n",
       "      <td>...</td>\n",
       "    </tr>\n",
       "    <tr>\n",
       "      <th>9995</th>\n",
       "      <td>10177</td>\n",
       "      <td>7876</td>\n",
       "      <td>22.8800</td>\n",
       "      <td>{}</td>\n",
       "      <td>7916</td>\n",
       "      <td>NaN</td>\n",
       "      <td>1</td>\n",
       "      <td>40</td>\n",
       "      <td>NaN</td>\n",
       "      <td>0.0</td>\n",
       "      <td>0.00</td>\n",
       "    </tr>\n",
       "    <tr>\n",
       "      <th>9996</th>\n",
       "      <td>54312</td>\n",
       "      <td>7747</td>\n",
       "      <td>12.3000</td>\n",
       "      <td>{}</td>\n",
       "      <td>7771</td>\n",
       "      <td>NaN</td>\n",
       "      <td>1</td>\n",
       "      <td>24</td>\n",
       "      <td>NaN</td>\n",
       "      <td>0.0</td>\n",
       "      <td>0.00</td>\n",
       "    </tr>\n",
       "    <tr>\n",
       "      <th>9997</th>\n",
       "      <td>45597</td>\n",
       "      <td>7674</td>\n",
       "      <td>15.3800</td>\n",
       "      <td>{}</td>\n",
       "      <td>7692</td>\n",
       "      <td>NaN</td>\n",
       "      <td>1</td>\n",
       "      <td>18</td>\n",
       "      <td>NaN</td>\n",
       "      <td>0.0</td>\n",
       "      <td>0.00</td>\n",
       "    </tr>\n",
       "    <tr>\n",
       "      <th>9998</th>\n",
       "      <td>38629</td>\n",
       "      <td>7822</td>\n",
       "      <td>36.8800</td>\n",
       "      <td>[\"2021-06-12\", \"36.6\"]</td>\n",
       "      <td>7837</td>\n",
       "      <td>NaN</td>\n",
       "      <td>1</td>\n",
       "      <td>15</td>\n",
       "      <td>NaN</td>\n",
       "      <td>2.0</td>\n",
       "      <td>0.28</td>\n",
       "    </tr>\n",
       "    <tr>\n",
       "      <th>9999</th>\n",
       "      <td>58619</td>\n",
       "      <td>7731</td>\n",
       "      <td>39.3800</td>\n",
       "      <td>[\"2021-03-08\", \"38.6\", \"2021-03-27\", \"38\"]</td>\n",
       "      <td>7761</td>\n",
       "      <td>NaN</td>\n",
       "      <td>1</td>\n",
       "      <td>30</td>\n",
       "      <td>NaN</td>\n",
       "      <td>4.0</td>\n",
       "      <td>1.38</td>\n",
       "    </tr>\n",
       "  </tbody>\n",
       "</table>\n",
       "<p>10000 rows × 11 columns</p>\n",
       "</div>"
      ],
      "text/plain": [
       "      车辆 id  上架时间     上架价格                                价格调整时间：调整后价格  下架时间  \\\n",
       "0     68603  7736   3.9800                                          {}  7736   \n",
       "1     12312  7799   4.5000                                          {}  7829   \n",
       "2     57655  7738  23.9000                        [\"2021-04-05\", \"23\"]  7763   \n",
       "3     45688  7541  20.5798                                          {}  7544   \n",
       "4     52081  7784  12.2800                      [\"2021-05-20\", \"11.9\"]  7836   \n",
       "...     ...   ...      ...                                         ...   ...   \n",
       "9995  10177  7876  22.8800                                          {}  7916   \n",
       "9996  54312  7747  12.3000                                          {}  7771   \n",
       "9997  45597  7674  15.3800                                          {}  7692   \n",
       "9998  38629  7822  36.8800                      [\"2021-06-12\", \"36.6\"]  7837   \n",
       "9999  58619  7731  39.3800  [\"2021-03-08\", \"38.6\", \"2021-03-27\", \"38\"]  7761   \n",
       "\n",
       "        成交时间  a  在售时间  成交周期  价格调整次数  降价金额  \n",
       "0     7736.0  1     0   0.0     0.0  0.00  \n",
       "1     7829.0  1    30  30.0     0.0  0.00  \n",
       "2     7763.0  1    25  25.0     2.0  0.90  \n",
       "3     7544.0  1     3   3.0     0.0  0.00  \n",
       "4     7836.0  1    52  52.0     2.0  0.38  \n",
       "...      ... ..   ...   ...     ...   ...  \n",
       "9995     NaN  1    40   NaN     0.0  0.00  \n",
       "9996     NaN  1    24   NaN     0.0  0.00  \n",
       "9997     NaN  1    18   NaN     0.0  0.00  \n",
       "9998     NaN  1    15   NaN     2.0  0.28  \n",
       "9999     NaN  1    30   NaN     4.0  1.38  \n",
       "\n",
       "[10000 rows x 11 columns]"
      ]
     },
     "execution_count": 122,
     "metadata": {},
     "output_type": "execute_result"
    }
   ],
   "source": [
    "df"
   ]
  },
  {
   "cell_type": "code",
   "execution_count": 103,
   "id": "18006797",
   "metadata": {},
   "outputs": [
    {
     "data": {
      "text/plain": [
       "dict_keys(['2021-03-08', '2021-03-27'])"
      ]
     },
     "execution_count": 103,
     "metadata": {},
     "output_type": "execute_result"
    }
   ],
   "source": [
    "dicc = {\"2021-03-08\": \"38.6\", \"2021-03-27\": \"38\"}\n",
    "dicc.keys()"
   ]
  },
  {
   "cell_type": "code",
   "execution_count": 82,
   "id": "4fa5fb6a",
   "metadata": {},
   "outputs": [
    {
     "data": {
      "text/plain": [
       "12.0"
      ]
     },
     "execution_count": 82,
     "metadata": {},
     "output_type": "execute_result"
    }
   ],
   "source": []
  },
  {
   "cell_type": "code",
   "execution_count": 72,
   "id": "9b207923",
   "metadata": {},
   "outputs": [
    {
     "data": {
      "text/plain": [
       "0       1\n",
       "1       1\n",
       "2       1\n",
       "3       1\n",
       "4       1\n",
       "       ..\n",
       "9995    1\n",
       "9996    1\n",
       "9997    1\n",
       "9998    1\n",
       "9999    2\n",
       "Name: 价格调整次数, Length: 10000, dtype: int64"
      ]
     },
     "execution_count": 72,
     "metadata": {},
     "output_type": "execute_result"
    }
   ],
   "source": []
  },
  {
   "cell_type": "code",
   "execution_count": 68,
   "id": "dd65703e",
   "metadata": {},
   "outputs": [
    {
     "data": {
      "text/plain": [
       "12"
      ]
     },
     "execution_count": 68,
     "metadata": {},
     "output_type": "execute_result"
    }
   ],
   "source": [
    "max(dic_len)"
   ]
  },
  {
   "cell_type": "code",
   "execution_count": 52,
   "id": "b07bffe6",
   "metadata": {},
   "outputs": [],
   "source": [
    "plt.rcParams['font.sans-serif'] = ['SimHei']\n",
    "plt.rcParams['axes.unicode_minus'] = False"
   ]
  },
  {
   "cell_type": "code",
   "execution_count": 83,
   "id": "45bacd3c",
   "metadata": {},
   "outputs": [
    {
     "data": {
      "text/html": [
       "<div>\n",
       "<style scoped>\n",
       "    .dataframe tbody tr th:only-of-type {\n",
       "        vertical-align: middle;\n",
       "    }\n",
       "\n",
       "    .dataframe tbody tr th {\n",
       "        vertical-align: top;\n",
       "    }\n",
       "\n",
       "    .dataframe thead th {\n",
       "        text-align: right;\n",
       "    }\n",
       "</style>\n",
       "<table border=\"1\" class=\"dataframe\">\n",
       "  <thead>\n",
       "    <tr style=\"text-align: right;\">\n",
       "      <th></th>\n",
       "      <th>车辆 id</th>\n",
       "      <th>上架时间</th>\n",
       "      <th>上架价格</th>\n",
       "      <th>价格调整时间：调整后价格</th>\n",
       "      <th>下架时间</th>\n",
       "      <th>成交时间</th>\n",
       "      <th>a</th>\n",
       "      <th>在售时间</th>\n",
       "      <th>成交周期</th>\n",
       "      <th>价格调整次数</th>\n",
       "    </tr>\n",
       "  </thead>\n",
       "  <tbody>\n",
       "    <tr>\n",
       "      <th>0</th>\n",
       "      <td>68603</td>\n",
       "      <td>7736</td>\n",
       "      <td>3.9800</td>\n",
       "      <td>{}</td>\n",
       "      <td>7736</td>\n",
       "      <td>7736.0</td>\n",
       "      <td>1</td>\n",
       "      <td>0</td>\n",
       "      <td>0.0</td>\n",
       "      <td>0.0</td>\n",
       "    </tr>\n",
       "    <tr>\n",
       "      <th>1</th>\n",
       "      <td>12312</td>\n",
       "      <td>7799</td>\n",
       "      <td>4.5000</td>\n",
       "      <td>{}</td>\n",
       "      <td>7829</td>\n",
       "      <td>7829.0</td>\n",
       "      <td>1</td>\n",
       "      <td>30</td>\n",
       "      <td>30.0</td>\n",
       "      <td>0.0</td>\n",
       "    </tr>\n",
       "    <tr>\n",
       "      <th>2</th>\n",
       "      <td>57655</td>\n",
       "      <td>7738</td>\n",
       "      <td>23.9000</td>\n",
       "      <td>{\"2021-04-05\": \"23\"}</td>\n",
       "      <td>7763</td>\n",
       "      <td>7763.0</td>\n",
       "      <td>1</td>\n",
       "      <td>25</td>\n",
       "      <td>25.0</td>\n",
       "      <td>1.0</td>\n",
       "    </tr>\n",
       "    <tr>\n",
       "      <th>3</th>\n",
       "      <td>45688</td>\n",
       "      <td>7541</td>\n",
       "      <td>20.5798</td>\n",
       "      <td>{}</td>\n",
       "      <td>7544</td>\n",
       "      <td>7544.0</td>\n",
       "      <td>1</td>\n",
       "      <td>3</td>\n",
       "      <td>3.0</td>\n",
       "      <td>0.0</td>\n",
       "    </tr>\n",
       "    <tr>\n",
       "      <th>4</th>\n",
       "      <td>52081</td>\n",
       "      <td>7784</td>\n",
       "      <td>12.2800</td>\n",
       "      <td>{\"2021-05-20\": \"11.9\"}</td>\n",
       "      <td>7836</td>\n",
       "      <td>7836.0</td>\n",
       "      <td>1</td>\n",
       "      <td>52</td>\n",
       "      <td>52.0</td>\n",
       "      <td>1.0</td>\n",
       "    </tr>\n",
       "    <tr>\n",
       "      <th>...</th>\n",
       "      <td>...</td>\n",
       "      <td>...</td>\n",
       "      <td>...</td>\n",
       "      <td>...</td>\n",
       "      <td>...</td>\n",
       "      <td>...</td>\n",
       "      <td>...</td>\n",
       "      <td>...</td>\n",
       "      <td>...</td>\n",
       "      <td>...</td>\n",
       "    </tr>\n",
       "    <tr>\n",
       "      <th>9995</th>\n",
       "      <td>10177</td>\n",
       "      <td>7876</td>\n",
       "      <td>22.8800</td>\n",
       "      <td>{}</td>\n",
       "      <td>7916</td>\n",
       "      <td>NaN</td>\n",
       "      <td>1</td>\n",
       "      <td>40</td>\n",
       "      <td>NaN</td>\n",
       "      <td>0.0</td>\n",
       "    </tr>\n",
       "    <tr>\n",
       "      <th>9996</th>\n",
       "      <td>54312</td>\n",
       "      <td>7747</td>\n",
       "      <td>12.3000</td>\n",
       "      <td>{}</td>\n",
       "      <td>7771</td>\n",
       "      <td>NaN</td>\n",
       "      <td>1</td>\n",
       "      <td>24</td>\n",
       "      <td>NaN</td>\n",
       "      <td>0.0</td>\n",
       "    </tr>\n",
       "    <tr>\n",
       "      <th>9997</th>\n",
       "      <td>45597</td>\n",
       "      <td>7674</td>\n",
       "      <td>15.3800</td>\n",
       "      <td>{}</td>\n",
       "      <td>7692</td>\n",
       "      <td>NaN</td>\n",
       "      <td>1</td>\n",
       "      <td>18</td>\n",
       "      <td>NaN</td>\n",
       "      <td>0.0</td>\n",
       "    </tr>\n",
       "    <tr>\n",
       "      <th>9998</th>\n",
       "      <td>38629</td>\n",
       "      <td>7822</td>\n",
       "      <td>36.8800</td>\n",
       "      <td>{\"2021-06-12\": \"36.6\"}</td>\n",
       "      <td>7837</td>\n",
       "      <td>NaN</td>\n",
       "      <td>1</td>\n",
       "      <td>15</td>\n",
       "      <td>NaN</td>\n",
       "      <td>1.0</td>\n",
       "    </tr>\n",
       "    <tr>\n",
       "      <th>9999</th>\n",
       "      <td>58619</td>\n",
       "      <td>7731</td>\n",
       "      <td>39.3800</td>\n",
       "      <td>{\"2021-03-08\": \"38.6\", \"2021-03-27\": \"38\"}</td>\n",
       "      <td>7761</td>\n",
       "      <td>NaN</td>\n",
       "      <td>1</td>\n",
       "      <td>30</td>\n",
       "      <td>NaN</td>\n",
       "      <td>2.0</td>\n",
       "    </tr>\n",
       "  </tbody>\n",
       "</table>\n",
       "<p>10000 rows × 10 columns</p>\n",
       "</div>"
      ],
      "text/plain": [
       "      车辆 id  上架时间     上架价格                                价格调整时间：调整后价格  下架时间  \\\n",
       "0     68603  7736   3.9800                                          {}  7736   \n",
       "1     12312  7799   4.5000                                          {}  7829   \n",
       "2     57655  7738  23.9000                        {\"2021-04-05\": \"23\"}  7763   \n",
       "3     45688  7541  20.5798                                          {}  7544   \n",
       "4     52081  7784  12.2800                      {\"2021-05-20\": \"11.9\"}  7836   \n",
       "...     ...   ...      ...                                         ...   ...   \n",
       "9995  10177  7876  22.8800                                          {}  7916   \n",
       "9996  54312  7747  12.3000                                          {}  7771   \n",
       "9997  45597  7674  15.3800                                          {}  7692   \n",
       "9998  38629  7822  36.8800                      {\"2021-06-12\": \"36.6\"}  7837   \n",
       "9999  58619  7731  39.3800  {\"2021-03-08\": \"38.6\", \"2021-03-27\": \"38\"}  7761   \n",
       "\n",
       "        成交时间  a  在售时间  成交周期  价格调整次数  \n",
       "0     7736.0  1     0   0.0     0.0  \n",
       "1     7829.0  1    30  30.0     0.0  \n",
       "2     7763.0  1    25  25.0     1.0  \n",
       "3     7544.0  1     3   3.0     0.0  \n",
       "4     7836.0  1    52  52.0     1.0  \n",
       "...      ... ..   ...   ...     ...  \n",
       "9995     NaN  1    40   NaN     0.0  \n",
       "9996     NaN  1    24   NaN     0.0  \n",
       "9997     NaN  1    18   NaN     0.0  \n",
       "9998     NaN  1    15   NaN     1.0  \n",
       "9999     NaN  1    30   NaN     2.0  \n",
       "\n",
       "[10000 rows x 10 columns]"
      ]
     },
     "execution_count": 83,
     "metadata": {},
     "output_type": "execute_result"
    }
   ],
   "source": [
    "df"
   ]
  },
  {
   "cell_type": "code",
   "execution_count": 54,
   "id": "347057a7",
   "metadata": {},
   "outputs": [
    {
     "data": {
      "image/png": "[encoded data removed]",
      "text/plain": [
       "<Figure size 432x288 with 1 Axes>"
      ]
     },
     "metadata": {
      "needs_background": "light"
     },
     "output_type": "display_data"
    }
   ],
   "source": [
    "plt.scatter(df[column[1]],df[column[4]],s=2)\n",
    "plt.xlabel(column[1])\n",
    "plt.ylabel(column[4])\n",
    "plt.title(column[1]+' - '+column[4])\n",
    "plt.show()"
   ]
  },
  {
   "cell_type": "code",
   "execution_count": 55,
   "id": "ced754b8",
   "metadata": {},
   "outputs": [
    {
     "data": {
      "image/png": "[encoded data removed]",
      "text/plain": [
       "<Figure size 432x288 with 1 Axes>"
      ]
     },
     "metadata": {
      "needs_background": "light"
     },
     "output_type": "display_data"
    }
   ],
   "source": [
    "plt.scatter(df[column[1]],df[column[5]],s=2)\n",
    "plt.xlabel(column[1])\n",
    "plt.ylabel(column[5])\n",
    "plt.title(column[1]+' - '+column[5])\n",
    "plt.show()"
   ]
  },
  {
   "cell_type": "code",
   "execution_count": 56,
   "id": "906e9106",
   "metadata": {},
   "outputs": [
    {
     "data": {
      "image/png": "[encoded data removed]",
      "text/plain": [
       "<Figure size 432x288 with 1 Axes>"
      ]
     },
     "metadata": {
      "needs_background": "light"
     },
     "output_type": "display_data"
    }
   ],
   "source": [
    "plt.scatter(df[column[4]],df[column[5]],s=2)\n",
    "plt.xlabel(column[4])\n",
    "plt.ylabel(column[5])\n",
    "plt.title(column[4]+' - '+column[5])\n",
    "plt.show()"
   ]
  },
  {
   "cell_type": "code",
   "execution_count": 57,
   "id": "3050d557",
   "metadata": {},
   "outputs": [
    {
     "data": {
      "image/png": "[encoded data removed]",
      "text/plain": [
       "<Figure size 432x288 with 1 Axes>"
      ]
     },
     "metadata": {
      "needs_background": "light"
     },
     "output_type": "display_data"
    }
   ],
   "source": [
    "plt.scatter(df[column[2]],df['在售时间'],s=2)\n",
    "plt.xlabel(column[2])\n",
    "plt.ylabel('在售时间')\n",
    "plt.title(column[2]+' - '+'在售时间')\n",
    "plt.show()"
   ]
  },
  {
   "cell_type": "code",
   "execution_count": 58,
   "id": "a4a742c4",
   "metadata": {},
   "outputs": [
    {
     "data": {
      "image/png": "[encoded data removed]",
      "text/plain": [
       "<Figure size 432x288 with 1 Axes>"
      ]
     },
     "metadata": {
      "needs_background": "light"
     },
     "output_type": "display_data"
    }
   ],
   "source": [
    "plt.scatter(df[column[2]],df['成交时间'],s=2)\n",
    "plt.xlabel(column[2])\n",
    "plt.ylabel('成交时间')\n",
    "plt.title(column[2]+' - '+'成交时间')\n",
    "plt.show()"
   ]
  },
  {
   "cell_type": "code",
   "execution_count": 85,
   "id": "580ff26e",
   "metadata": {},
   "outputs": [
    {
     "data": {
      "image/png": "[encoded data removed]",
      "text/plain": [
       "<Figure size 432x288 with 1 Axes>"
      ]
     },
     "metadata": {
      "needs_background": "light"
     },
     "output_type": "display_data"
    }
   ],
   "source": [
    "plt.scatter(df['成交周期'],df['价格调整次数'],s=2)\n",
    "plt.xlabel('成交周期')\n",
    "plt.ylabel('价格调整次数')\n",
    "plt.title('成交周期'+' - '+'价格调整次数')\n",
    "plt.show()"
   ]
  },
  {
   "cell_type": "code",
   "execution_count": 124,
   "id": "2e83a306",
   "metadata": {},
   "outputs": [
    {
     "data": {
      "image/png": "[encoded data removed]",
      "text/plain": [
       "<Figure size 432x288 with 1 Axes>"
      ]
     },
     "metadata": {
      "needs_background": "light"
     },
     "output_type": "display_data"
    }
   ],
   "source": [
    "plt.scatter(df['降价金额'],df['成交周期'],s=2)\n",
    "plt.xlabel('降价金额')\n",
    "plt.ylabel('成交周期')\n",
    "plt.title('成交周期'+' - '+'降价金额')\n",
    "plt.show()"
   ]
  },
  {
   "cell_type": "code",
   "execution_count": null,
   "id": "2475eff0",
   "metadata": {},
   "outputs": [],
   "source": []
  }
 ],
 "metadata": {
  "kernelspec": {
   "display_name": "Python 3 (ipykernel)",
   "language": "python",
   "name": "python3"
  },
  "language_info": {
   "codemirror_mode": {
    "name": "ipython",
    "version": 3
   },
   "file_extension": ".py",
   "mimetype": "text/x-python",
   "name": "python",
   "nbconvert_exporter": "python",
   "pygments_lexer": "ipython3",
   "version": "3.8.10"
  }
 },
 "nbformat": 4,
 "nbformat_minor": 5
}
